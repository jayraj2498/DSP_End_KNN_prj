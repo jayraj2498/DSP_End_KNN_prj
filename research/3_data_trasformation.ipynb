{
 "cells": [
  {
   "cell_type": "code",
   "execution_count": 1,
   "id": "b84d8144",
   "metadata": {},
   "outputs": [],
   "source": [
    "import os "
   ]
  },
  {
   "cell_type": "code",
   "execution_count": 2,
   "id": "1d62b3fe",
   "metadata": {},
   "outputs": [
    {
     "data": {
      "text/plain": [
       "'e:\\\\Ds_p1\\\\DSP_End_KNN_prj\\\\research'"
      ]
     },
     "execution_count": 2,
     "metadata": {},
     "output_type": "execute_result"
    }
   ],
   "source": [
    "%pwd "
   ]
  },
  {
   "cell_type": "code",
   "execution_count": 3,
   "metadata": {},
   "outputs": [],
   "source": [
    "os.chdir(\"../\")"
   ]
  },
  {
   "cell_type": "code",
   "execution_count": 4,
   "id": "6632aea9",
   "metadata": {},
   "outputs": [
    {
     "data": {
      "text/plain": [
       "'e:\\\\Ds_p1\\\\DSP_End_KNN_prj'"
      ]
     },
     "execution_count": 4,
     "metadata": {},
     "output_type": "execute_result"
    }
   ],
   "source": [
    "%pwd "
   ]
  },
  {
   "cell_type": "code",
   "execution_count": 5,
   "id": "99851d7f",
   "metadata": {},
   "outputs": [],
   "source": [
    "from pathlib import Path \n",
    "from dataclasses import dataclass \n",
    "\n",
    "\n",
    "@dataclass\n",
    "class DataTransformationConfig : \n",
    "    root_dir : Path \n",
    "    data_path : Path "
   ]
  },
  {
   "cell_type": "code",
   "execution_count": null,
   "id": "5f1f5b89",
   "metadata": {},
   "outputs": [],
   "source": [
    "# we update configration manager  \n",
    "\n",
    "from src.datascience.constants  import * \n",
    "from src.datascience.utils.common import read_yaml , create_directories "
   ]
  },
  {
   "cell_type": "code",
   "execution_count": 7,
   "id": "70301da7",
   "metadata": {},
   "outputs": [],
   "source": [
    "class ConfigurationaManager : \n",
    "    def __init__(\n",
    "        self, \n",
    "        config_filepath = CONFIG_FILE_PATH,\n",
    "        params_filepath = PARAMS_FILE_PATH,\n",
    "        schema_filepath = SCHEMA_FILE_PATH ):\n",
    "        \n",
    "        \n",
    "        self.config = read_yaml(config_filepath)\n",
    "        self.params = read_yaml(params_filepath)\n",
    "        self.schema = read_yaml(schema_filepath)  \n",
    "        \n",
    "        create_directories([self.config.artifacts_root]) \n",
    "        \n",
    "        \n",
    "    def get_data_transformation_config(self) -> DataTransformationConfig : \n",
    "        config = self.config.data_transformation \n",
    "        create_directories([config.root_dir]) \n",
    "        data_transformation_config =  DataTransformationConfig(\n",
    "            root_dir = config.root_dir , \n",
    "            data_path = config.data_path \n",
    "        ) \n",
    "        \n",
    "        return data_transformation_config\n",
    "        \n",
    "        \n",
    "        "
   ]
  },
  {
   "cell_type": "code",
   "execution_count": 9,
   "id": "9d8035bf",
   "metadata": {},
   "outputs": [],
   "source": [
    "# we will update the component \n",
    "\n",
    "import os \n",
    "from src.datascience import logger \n",
    "from sklearn.model_selection import train_test_split\n",
    "import pandas as pd"
   ]
  },
  {
   "cell_type": "code",
   "execution_count": 10,
   "id": "989c49b4",
   "metadata": {},
   "outputs": [],
   "source": [
    "# here you can add diff data transformation techniques such as scaler , pca ,fe , and all etc \n",
    "\n",
    "class DataTransformation : \n",
    "    def __init__(self,config:DataTransformationConfig) :\n",
    "        self.config = config  \n",
    "        \n",
    "        \n",
    "    def train_test_splitting(self) : \n",
    "        data = pd.read_csv(self.config.data_path) \n",
    "        \n",
    "        #spliting the data into train and test \n",
    "        train , test = train_test_split(data, test_size = 0.25 , random_state = 42 )\n",
    "        \n",
    "        # now we are seprating two train and test data \n",
    "        \n",
    "        train.to_csv(os.path.join(self.config.root_dir ,\"train.csv\"), index=False)\n",
    "        test.to_csv(os.path.join(self.config.root_dir , \"test.csv\") , index=False) \n",
    "        \n",
    "        \n",
    "        logger.info(\"splited the data into train and test \")\n",
    "        logger.info(train.shape)\n",
    "        logger.info(test.shape) \n",
    "        \n",
    "        \n",
    "        \n",
    "        print(train.shape)\n",
    "        print(test.shape)\n",
    "        "
   ]
  },
  {
   "cell_type": "code",
   "execution_count": 11,
   "id": "c1081110",
   "metadata": {},
   "outputs": [
    {
     "name": "stdout",
     "output_type": "stream",
     "text": [
      "[2025-09-21 20:07:41,472: INFO: common: yaml file : config\\config.yaml loaded successfully]\n",
      "[2025-09-21 20:07:41,477: INFO: common: yaml file : Params.yaml loaded successfully]\n",
      "[2025-09-21 20:07:41,499: INFO: common: yaml file : schema.yaml loaded successfully]\n",
      "[2025-09-21 20:07:41,505: INFO: common: created directory at : artifacts]\n",
      "[2025-09-21 20:07:41,506: INFO: common: created directory at : artifacts/data_transformation]\n",
      "[2025-09-21 20:07:42,087: INFO: 924867: splited the data into train and test ]\n",
      "[2025-09-21 20:07:42,087: INFO: 924867: (1199, 12)]\n",
      "[2025-09-21 20:07:42,087: INFO: 924867: (400, 12)]\n",
      "(1199, 12)\n",
      "(400, 12)\n"
     ]
    }
   ],
   "source": [
    "# now we call all abouve thing and run it \n",
    "\n",
    "\n",
    "\n",
    "try : \n",
    "    config = ConfigurationaManager() \n",
    "    data_transformation_config = config.get_data_transformation_config()\n",
    "    data_transformation = DataTransformation(config=data_transformation_config)\n",
    "    data_transformation.train_test_splitting()\n",
    "    \n",
    "except Exception as e : \n",
    "    raise e\n",
    "    "
   ]
  },
  {
   "cell_type": "code",
   "execution_count": null,
   "id": "755e15a1",
   "metadata": {},
   "outputs": [],
   "source": []
  },
  {
   "cell_type": "code",
   "execution_count": null,
   "id": "a6de90b4",
   "metadata": {},
   "outputs": [],
   "source": []
  },
  {
   "cell_type": "code",
   "execution_count": null,
   "id": "342e587e",
   "metadata": {},
   "outputs": [],
   "source": []
  },
  {
   "cell_type": "code",
   "execution_count": null,
   "id": "a9945879",
   "metadata": {},
   "outputs": [],
   "source": []
  },
  {
   "cell_type": "code",
   "execution_count": null,
   "id": "2e61251c",
   "metadata": {},
   "outputs": [],
   "source": []
  },
  {
   "cell_type": "code",
   "execution_count": null,
   "id": "01dc9888",
   "metadata": {},
   "outputs": [],
   "source": []
  },
  {
   "cell_type": "code",
   "execution_count": null,
   "id": "0ad14795",
   "metadata": {},
   "outputs": [],
   "source": []
  },
  {
   "cell_type": "code",
   "execution_count": null,
   "id": "078a1b19",
   "metadata": {},
   "outputs": [],
   "source": []
  },
  {
   "cell_type": "code",
   "execution_count": null,
   "id": "3c9e3d0c",
   "metadata": {},
   "outputs": [],
   "source": []
  },
  {
   "cell_type": "code",
   "execution_count": null,
   "id": "3d031a12",
   "metadata": {},
   "outputs": [],
   "source": []
  }
 ],
 "metadata": {
  "kernelspec": {
   "display_name": "base",
   "language": "python",
   "name": "python3"
  },
  "language_info": {
   "codemirror_mode": {
    "name": "ipython",
    "version": 3
   },
   "file_extension": ".py",
   "mimetype": "text/x-python",
   "name": "python",
   "nbconvert_exporter": "python",
   "pygments_lexer": "ipython3",
   "version": "3.12.7"
  }
 },
 "nbformat": 4,
 "nbformat_minor": 5
}
