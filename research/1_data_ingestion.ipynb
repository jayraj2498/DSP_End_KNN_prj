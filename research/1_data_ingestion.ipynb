{
 "cells": [
  {
   "cell_type": "code",
   "execution_count": null,
   "id": "7792cb5b",
   "metadata": {},
   "outputs": [],
   "source": [
    "\n",
    "# Data ingetion :\n",
    "\n",
    "#     1. update config.yaml \n",
    "#       - data ingestion pipeline require input so we crete those input here :\n",
    "\n",
    "#     2. update schema.yaml :notr \n",
    "#     3. update params.yaml :notr\n",
    "\n",
    "#     4. update entity \n",
    "#       \n",
    "#     5. update the configration manager in src config \n",
    "\n",
    "#     6. update the component \n",
    "#     7. update the pipeline \n",
    "#     8. update the main.py "
   ]
  },
  {
   "cell_type": "code",
   "execution_count": null,
   "id": "b2336b7c",
   "metadata": {},
   "outputs": [],
   "source": []
  },
  {
   "cell_type": "code",
   "execution_count": 12,
   "id": "f7b6a439",
   "metadata": {},
   "outputs": [],
   "source": [
    "import os "
   ]
  },
  {
   "cell_type": "code",
   "execution_count": 3,
   "id": "dacd4264",
   "metadata": {},
   "outputs": [
    {
     "data": {
      "text/plain": [
       "'e:\\\\Ds_p1\\\\DSP_End_KNN_prj\\\\research'"
      ]
     },
     "execution_count": 3,
     "metadata": {},
     "output_type": "execute_result"
    }
   ],
   "source": [
    "%pwd "
   ]
  },
  {
   "cell_type": "code",
   "execution_count": 4,
   "id": "ede597af",
   "metadata": {},
   "outputs": [],
   "source": [
    "# we have to run the programe with our parent directory --> DSP_End_KNN_prj\n",
    "\n",
    "os.chdir(\"../\")"
   ]
  },
  {
   "cell_type": "code",
   "execution_count": 13,
   "id": "124e75ba",
   "metadata": {},
   "outputs": [
    {
     "data": {
      "text/plain": [
       "'e:\\\\Ds_p1\\\\DSP_End_KNN_prj'"
      ]
     },
     "execution_count": 13,
     "metadata": {},
     "output_type": "execute_result"
    }
   ],
   "source": [
    "%pwd # see "
   ]
  },
  {
   "cell_type": "code",
   "execution_count": null,
   "id": "3bc84185",
   "metadata": {},
   "outputs": [],
   "source": [
    "# https://github.com/krishnaik06/datasets/raw/refs/heads/main/winequality-data.zip"
   ]
  },
  {
   "cell_type": "code",
   "execution_count": null,
   "id": "d176c714",
   "metadata": {},
   "outputs": [],
   "source": []
  },
  {
   "cell_type": "code",
   "execution_count": 21,
   "id": "ab07d17e",
   "metadata": {},
   "outputs": [],
   "source": [
    "from dataclasses import dataclass \n",
    "from pathlib import Path \n",
    "\n",
    "\n",
    "@dataclass \n",
    "class DataIngestionConfig :\n",
    "    root_dir: Path \n",
    "    source_URL: str\n",
    "    local_data_file: Path\n",
    "    unzip_dir: Path"
   ]
  },
  {
   "cell_type": "code",
   "execution_count": null,
   "id": "ed13e8c7",
   "metadata": {},
   "outputs": [],
   "source": [
    "# # this config need to pass the data ingestion Pipeline \n",
    "# 5. update the configration manager in src config \n"
   ]
  },
  {
   "cell_type": "code",
   "execution_count": 22,
   "id": "f2093b71",
   "metadata": {},
   "outputs": [],
   "source": [
    "from src.datascience.constants import *\n",
    "from src.datascience.utils.common import read_yaml , create_directories "
   ]
  },
  {
   "cell_type": "code",
   "execution_count": 23,
   "id": "ac19b7be",
   "metadata": {},
   "outputs": [],
   "source": [
    "class ConfigurationManager :\n",
    "    def __init__(self\n",
    "                 ,config_filepath=CONFIG_FILE_PATH\n",
    "                 ,params_filepath=PARAMS_FILE_PATH\n",
    "                 ,schema_filepath=SCHEMA_FILE_PATH) :\n",
    "        \n",
    "        self.config = read_yaml(config_filepath)\n",
    "        self.params= read_yaml(params_filepath)\n",
    "        self.schema= read_yaml(schema_filepath)\n",
    "        \n",
    "        create_directories([self.config.artifacts_root])\n",
    "        \n",
    "    \n",
    "    \n",
    "    # to initiate data ingestion  \n",
    "    \n",
    "    def get_data_ingestion_config(self) -> DataIngestionConfig :\n",
    "        config = self.config.data_ingestion\n",
    "        create_directories([config.root_dir]) \n",
    "        \n",
    "        \n",
    "        data_ingestion_config= DataIngestionConfig(\n",
    "            root_dir=config.root_dir , \n",
    "            source_URL= config.source_URL ,\n",
    "            local_data_file= config.local_data_file ,\n",
    "            unzip_dir= config.unzip_dir\n",
    "        )\n",
    "        \n",
    "        return data_ingestion_config"
   ]
  },
  {
   "cell_type": "code",
   "execution_count": 24,
   "id": "085b66b1",
   "metadata": {},
   "outputs": [],
   "source": [
    "from urllib import request \n",
    "import os \n",
    "from src.datascience import logger\n",
    "import zipfile"
   ]
  },
  {
   "cell_type": "code",
   "execution_count": 25,
   "id": "3f01b9bc",
   "metadata": {},
   "outputs": [],
   "source": [
    "# Update the component for data ingestion \n",
    "import requests\n",
    "\n",
    "class DataIngestion :\n",
    "    def __init__(self,config:DataIngestionConfig) :\n",
    "        self.config = config \n",
    "        \n",
    "    # this function is for downloading the zip file     \n",
    "    def download_file(self) :\n",
    "        if not os.path.exists(self.config.local_data_file) :\n",
    "            filename , headers = request.urlretrieve(\n",
    "                url = self.config.source_URL ,\n",
    "                filename = self.config.local_data_file\n",
    "            ) \n",
    "            \n",
    "            logger.info(f\"{filename} download with following info : {headers}\") \n",
    "        else :\n",
    "            logger.info(f\"file already exists\")    \n",
    "            \n",
    "    #  unzip the file        \n",
    "    def extract_zip_file(self) :\n",
    "        '''\n",
    "        zip_file_path : str\n",
    "        Extract the zip file into the data directory \n",
    "        Fuction return none \n",
    "        '''\n",
    "        \n",
    "        unzip_path = self.config.unzip_dir \n",
    "        os.makedirs(unzip_path , exist_ok=True) \n",
    "        with zipfile.ZipFile(self.config.local_data_file ,'r') as zip_ref :\n",
    "            zip_ref.extractall(unzip_path)\n",
    "    \n",
    "    \n",
    "    "
   ]
  },
  {
   "cell_type": "code",
   "execution_count": 26,
   "id": "cffa910f",
   "metadata": {},
   "outputs": [
    {
     "name": "stdout",
     "output_type": "stream",
     "text": [
      "[2025-09-08 17:42:15,031: INFO: common: yaml file : config\\config.yaml loaded successfully]\n",
      "[2025-09-08 17:42:15,038: INFO: common: yaml file : Params.yaml loaded successfully]\n",
      "[2025-09-08 17:42:15,045: INFO: common: yaml file : schema.yaml loaded successfully]\n",
      "[2025-09-08 17:42:15,045: INFO: common: created directory at : artifacts]\n",
      "[2025-09-08 17:42:15,059: INFO: common: created directory at : artifacts/data_ingestion]\n"
     ]
    },
    {
     "name": "stdout",
     "output_type": "stream",
     "text": [
      "[2025-09-08 17:42:17,349: INFO: 96264230: artifacts/data_ingestion/data.zip download with following info : Connection: close\n",
      "Content-Length: 23329\n",
      "Cache-Control: max-age=300\n",
      "Content-Security-Policy: default-src 'none'; style-src 'unsafe-inline'; sandbox\n",
      "Content-Type: application/zip\n",
      "ETag: \"c69888a4ae59bc5a893392785a938ccd4937981c06ba8a9d6a21aa52b4ab5b6e\"\n",
      "Strict-Transport-Security: max-age=31536000\n",
      "X-Content-Type-Options: nosniff\n",
      "X-Frame-Options: deny\n",
      "X-XSS-Protection: 1; mode=block\n",
      "X-GitHub-Request-Id: AA1B:3CE270:37649E:8D0D4A:68BEC820\n",
      "Accept-Ranges: bytes\n",
      "Date: Mon, 08 Sep 2025 12:12:17 GMT\n",
      "Via: 1.1 varnish\n",
      "X-Served-By: cache-ccu830036-CCU\n",
      "X-Cache: MISS\n",
      "X-Cache-Hits: 0\n",
      "X-Timer: S1757333537.948171,VS0,VE382\n",
      "Vary: Authorization,Accept-Encoding\n",
      "Access-Control-Allow-Origin: *\n",
      "Cross-Origin-Resource-Policy: cross-origin\n",
      "X-Fastly-Request-ID: 805639af246ff743d8f6ea15bb3ece1057a09616\n",
      "Expires: Mon, 08 Sep 2025 12:17:17 GMT\n",
      "Source-Age: 0\n",
      "\n",
      "]\n"
     ]
    }
   ],
   "source": [
    "try :\n",
    "    config = ConfigurationManager()\n",
    "    data_ingestion_config = config.get_data_ingestion_config() \n",
    "    data_ingestion= DataIngestion(config=data_ingestion_config) \n",
    "    data_ingestion.download_file() \n",
    "    data_ingestion.extract_zip_file() \n",
    "except Exception as e :\n",
    "    raise e"
   ]
  },
  {
   "cell_type": "code",
   "execution_count": null,
   "id": "8d29018a",
   "metadata": {},
   "outputs": [],
   "source": []
  },
  {
   "cell_type": "markdown",
   "id": "dab2ccc0",
   "metadata": {},
   "source": [
    "\n",
    "Data ingetion :\n",
    "\n",
    "    1. update config.yaml \n",
    "      - data ingestion pipeline require input so we crete those input here :\n",
    "\n",
    "    2. update schema.yaml :notr \n",
    "     3. update params.yaml :notr\n",
    "\n",
    "     4. update entity \n",
    "      - inside the config.entity \n",
    "      from dataclasses import dataclass \n",
    "      #    from pathlib import Path \n",
    "\n",
    "\n",
    "        @dataclass \n",
    "       class DataIngestionConfig :\n",
    "        root_dir: Path \n",
    "       source_URL: str\n",
    "       local_data_file: Path\n",
    "        unzip_dir: Pat\n",
    "\n",
    "    5. update the configration manager in src config \n",
    "\n",
    "    6. update the component \n",
    "      - to update the component \n",
    "    7. update the pipeline \n",
    "      - update the pipeline \n",
    "    8. update the main.py "
   ]
  },
  {
   "cell_type": "code",
   "execution_count": null,
   "id": "bcede5fb",
   "metadata": {},
   "outputs": [],
   "source": []
  }
 ],
 "metadata": {
  "kernelspec": {
   "display_name": "base",
   "language": "python",
   "name": "python3"
  },
  "language_info": {
   "codemirror_mode": {
    "name": "ipython",
    "version": 3
   },
   "file_extension": ".py",
   "mimetype": "text/x-python",
   "name": "python",
   "nbconvert_exporter": "python",
   "pygments_lexer": "ipython3",
   "version": "3.12.7"
  }
 },
 "nbformat": 4,
 "nbformat_minor": 5
}
