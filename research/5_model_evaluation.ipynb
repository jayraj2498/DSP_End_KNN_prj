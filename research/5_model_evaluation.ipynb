{
 "cells": [
  {
   "cell_type": "code",
   "execution_count": 20,
   "id": "8c84f9f7",
   "metadata": {},
   "outputs": [],
   "source": [
    "import os "
   ]
  },
  {
   "cell_type": "code",
   "execution_count": 22,
   "metadata": {},
   "outputs": [],
   "source": [
    "os.environ['MLFLOW_TRACKING_URI'] = \"https://dagshub.com/jayraj2498/DSP_End_KNN_prj.mlflow\"\n",
    "os.environ['MLFLOW_TRACKING_USERNAME'] = \"jayraj2498\"\n",
    "os.environ['MLFLOW_TRACKING_PASSWORD'] = \"777e2be0b0c43fcc2efbc898716cbaebe35c912b\"\n",
    "\n",
    "\n"
   ]
  },
  {
   "cell_type": "code",
   "execution_count": 3,
   "id": "264107c0",
   "metadata": {},
   "outputs": [
    {
     "data": {
      "text/plain": [
       "'e:\\\\Ds_p1\\\\DSP_End_KNN_prj\\\\research'"
      ]
     },
     "execution_count": 3,
     "metadata": {},
     "output_type": "execute_result"
    }
   ],
   "source": [
    "%pwd"
   ]
  },
  {
   "cell_type": "code",
   "execution_count": 4,
   "id": "ed3d6459",
   "metadata": {},
   "outputs": [],
   "source": [
    "os.chdir(\"../\")"
   ]
  },
  {
   "cell_type": "code",
   "execution_count": 5,
   "metadata": {},
   "outputs": [
    {
     "data": {
      "text/plain": [
       "'e:\\\\Ds_p1\\\\DSP_End_KNN_prj'"
      ]
     },
     "execution_count": 5,
     "metadata": {},
     "output_type": "execute_result"
    }
   ],
   "source": [
    "%pwd"
   ]
  },
  {
   "cell_type": "code",
   "execution_count": 29,
   "id": "6cd63f5f",
   "metadata": {},
   "outputs": [],
   "source": [
    "from dataclasses import dataclass \n",
    "from pathlib import Path \n",
    "\n",
    "\n",
    "@dataclass \n",
    "class ModelEvaluationConfig : \n",
    "    root_dir : Path \n",
    "    test_data_path : Path \n",
    "    model_path : Path \n",
    "    all_params : dict \n",
    "    metric_file_name : Path \n",
    "    target_column : str \n",
    "    mlflow_uri : str"
   ]
  },
  {
   "cell_type": "code",
   "execution_count": 30,
   "id": "efce36d4",
   "metadata": {},
   "outputs": [],
   "source": [
    "from src.datascience.constants import * \n",
    "from src.datascience.utils.common import read_yaml , create_directories , save_json "
   ]
  },
  {
   "cell_type": "code",
   "execution_count": 31,
   "id": "67b21712",
   "metadata": {},
   "outputs": [],
   "source": [
    "class ConfigurationManager:\n",
    "    def __init__(self,\n",
    "                 config_filepath=CONFIG_FILE_PATH,\n",
    "                 params_filepath=PARAMS_FILE_PATH,\n",
    "                 schema_filepath=SCHEMA_FILE_PATH):\n",
    "\n",
    "        self.config = read_yaml(config_filepath)\n",
    "        self.params = read_yaml(params_filepath)\n",
    "        self.schema = read_yaml(schema_filepath)\n",
    "\n",
    "        create_directories([self.config.artifacts_root])\n",
    "\n",
    "    def get_model_evaluation_config(self) -> ModelEvaluationConfig:\n",
    "        config = self.config.model_evaluation\n",
    "        params = self.params.ElasticNet  # or self.params[\"ElasticNet\"]\n",
    "        schema = self.schema.TARGET_COLUMN  # or self.schema[\"TARGET_COLUMN\"][\"name\"]\n",
    "\n",
    "        create_directories([config.root_dir])\n",
    "\n",
    "        model_evaluation_config = ModelEvaluationConfig(\n",
    "        root_dir=config.root_dir,\n",
    "        test_data_path=config.test_data_path,\n",
    "        model_path=config.model_path,\n",
    "        all_params=params,\n",
    "        metric_file_name=config.metric_file_name,\n",
    "        target_column=schema.name , \n",
    "        mlflow_uri=\"https://dagshub.com/jayraj2498/DSP_End_KNN_prj.mlflow\" )\n",
    "        \n",
    "        \n",
    "        return model_evaluation_config   \n",
    "        "
   ]
  },
  {
   "cell_type": "code",
   "execution_count": 32,
   "id": "4a8d6233",
   "metadata": {},
   "outputs": [],
   "source": [
    "import os \n",
    "import pandas as pd \n",
    "from sklearn.metrics import mean_squared_error , mean_absolute_error , r2_score \n",
    "import mlflow\n",
    "import numpy as np \n",
    "import joblib \n",
    "import mlflow.sklearn \n",
    "from urllib.parse import urlparse"
   ]
  },
  {
   "cell_type": "code",
   "execution_count": null,
   "id": "f729727e",
   "metadata": {},
   "outputs": [],
   "source": [
    "# # model evaluation component \n",
    "\n",
    "# class ModelEvaluation : \n",
    "#     def __init__(self, config:ModelEvaluationConfig) :\n",
    "#         self.config= config \n",
    "        \n",
    "        \n",
    "#     def eval_metrics(self,actual,pred): \n",
    "#         rmse = np.sqrt(mean_squared_error(actual,pred)) \n",
    "#         mae = mean_absolute_error(actual,pred) \n",
    "#         r2 = r2_score(actual,pred) \n",
    "        \n",
    "#         return rmse,mae,r2 \n",
    "    \n",
    "#     def log_into_mlflow(self) :\n",
    "        \n",
    "#         test_data = pd.read_csv(self.config.test_data_path)\n",
    "#         model = joblib.load(self.config.model_path)  \n",
    "        \n",
    "#         test_x = test_data.drop([self.config.target_column], axis=1)\n",
    "#         test_y = test_data[self.config.target_column] \n",
    "        \n",
    "#         mlflow.set_registry_uri(self.config.mlflow_uri) \n",
    "#         tracking_url_type_store = urlparse(mlflow.get_tracking_uri()).scheme \n",
    "        \n",
    "        \n",
    "#         with mlflow.start_run():\n",
    "            \n",
    "#             predicted_qualities = model.predict(test_x)\n",
    "\n",
    "#             (rmse, mae, r2) = self.eval_metrics(test_y, predicted_qualities)\n",
    "\n",
    "#             # saving metrics locally\n",
    "#             scores = {\"rmse\": rmse, \"mae\": mae, \"r2\": r2}\n",
    "#             save_json(path=Path(self.config.metric_file_name), data=scores)\n",
    "\n",
    "#             # log parameters\n",
    "#             mlflow.log_params(self.config.all_params)\n",
    "\n",
    "#             # log metrics (fixed: use log_metric, not log_metrics for single values)\n",
    "#             mlflow.log_metric(\"rmse\", rmse)\n",
    "#             mlflow.log_metric(\"r2\", r2)\n",
    "#             mlflow.log_metric(\"mae\", mae)\n",
    "\n",
    "#             # model registry does not work with file store\n",
    "#             if tracking_url_type_store != \"file\":\n",
    "#                 mlflow.sklearn.log_model(model, \"model\", registered_model_name=\"ElasticnetModel\")\n",
    "#             else:\n",
    "#                 mlflow.sklearn.log_model(model, \"model\")\n",
    "\n",
    "        \n",
    "        "
   ]
  },
  {
   "cell_type": "code",
   "execution_count": null,
   "id": "bbc73a19",
   "metadata": {},
   "outputs": [],
   "source": [
    "# model evaluation component \n",
    "# it is the code to save model locally cuase mlflow model registry is not supported in dagshub\n",
    "\n",
    "class ModelEvaluation : \n",
    "    def __init__(self, config:ModelEvaluationConfig) :\n",
    "        self.config= config \n",
    "        \n",
    "        \n",
    "    def eval_metrics(self,actual,pred): \n",
    "        rmse = np.sqrt(mean_squared_error(actual,pred)) \n",
    "        mae = mean_absolute_error(actual,pred) \n",
    "        r2 = r2_score(actual,pred) \n",
    "        \n",
    "        return rmse,mae,r2 \n",
    "    \n",
    "    def log_into_mlflow(self) :\n",
    "        \n",
    "        test_data = pd.read_csv(self.config.test_data_path)\n",
    "        model = joblib.load(self.config.model_path)  \n",
    "        \n",
    "        test_x = test_data.drop([self.config.target_column], axis=1)\n",
    "        test_y = test_data[self.config.target_column] \n",
    "        \n",
    "        mlflow.set_registry_uri(self.config.mlflow_uri) \n",
    "        tracking_url_type_store = urlparse(mlflow.get_tracking_uri()).scheme \n",
    "        \n",
    "\n",
    "\n",
    "        with mlflow.start_run():\n",
    "            predicted_qualities = model.predict(test_x)\n",
    "            rmse, mae, r2 = self.eval_metrics(test_y, predicted_qualities)\n",
    "\n",
    "            # save metrics locally\n",
    "            scores = {\"rmse\": rmse, \"mae\": mae, \"r2\": r2}\n",
    "            save_json(path=Path(self.config.metric_file_name), data=scores)\n",
    "\n",
    "            # log params\n",
    "            mlflow.log_params(self.config.all_params)\n",
    "\n",
    "            # log metrics\n",
    "            mlflow.log_metric(\"rmse\", rmse)\n",
    "            mlflow.log_metric(\"mae\", mae)\n",
    "            mlflow.log_metric(\"r2\", r2)\n",
    "\n",
    "            #  disable log_model (unsupported on DagsHub MLflow)\n",
    "            # mlflow.sklearn.log_model(model, \"model\")\n",
    "\n",
    "            #  instead, save model locally\n",
    "            model_path = Path(\"artifacts/model_evaluation/saved_model.pkl\")\n",
    "            joblib.dump(model, model_path)\n",
    "            print(f\"Model saved locally at {model_path}\")\n"
   ]
  },
  {
   "cell_type": "code",
   "execution_count": 34,
   "id": "c7bc2f14",
   "metadata": {},
   "outputs": [
    {
     "name": "stdout",
     "output_type": "stream",
     "text": [
      "[2025-09-28 20:29:43,805: INFO: common: yaml file : config\\config.yaml loaded successfully]\n",
      "[2025-09-28 20:29:43,812: INFO: common: yaml file : Params.yaml loaded successfully]\n",
      "[2025-09-28 20:29:43,817: INFO: common: yaml file : schema.yaml loaded successfully]\n",
      "[2025-09-28 20:29:43,819: INFO: common: created directory at : artifacts]\n",
      "[2025-09-28 20:29:43,821: INFO: common: created directory at : artifacts/model_evaluation]\n",
      "[2025-09-28 20:29:43,942: WARNING: connectionpool: Retrying (Retry(total=6, connect=7, read=6, redirect=7, status=7)) after connection broken by 'RemoteDisconnected('Remote end closed connection without response')': /jayraj2498/DSP_End_KNN_prj.mlflow/api/2.0/mlflow/runs/create]\n",
      "[2025-09-28 20:29:45,157: INFO: common: json file saved at : artifacts\\model_evaluation\\metrics.json]\n",
      "Model saved locally at artifacts\\model_evaluation\\saved_model.pkl\n",
      "🏃 View run smiling-bass-61 at: https://dagshub.com/jayraj2498/DSP_End_KNN_prj.mlflow/#/experiments/0/runs/574e5a58f20a47b696d1e0494b894163\n",
      "🧪 View experiment at: https://dagshub.com/jayraj2498/DSP_End_KNN_prj.mlflow/#/experiments/0\n"
     ]
    }
   ],
   "source": [
    "try :\n",
    "    config = ConfigurationManager() \n",
    "    model_eval_config = config.get_model_evaluation_config()\n",
    "    model_evaluation=ModelEvaluation(config=model_eval_config)\n",
    "    model_evaluation.log_into_mlflow() \n",
    "    \n",
    "except Exception as e :\n",
    "    \n",
    "    raise e "
   ]
  },
  {
   "cell_type": "code",
   "execution_count": null,
   "id": "05b070f2",
   "metadata": {},
   "outputs": [],
   "source": []
  },
  {
   "cell_type": "code",
   "execution_count": null,
   "id": "6a627ecc",
   "metadata": {},
   "outputs": [],
   "source": []
  },
  {
   "cell_type": "code",
   "execution_count": null,
   "id": "db62a644",
   "metadata": {},
   "outputs": [],
   "source": []
  },
  {
   "cell_type": "code",
   "execution_count": null,
   "id": "31237136",
   "metadata": {},
   "outputs": [],
   "source": []
  },
  {
   "cell_type": "code",
   "execution_count": 48,
   "metadata": {},
   "outputs": [],
   "source": [
    "import os \n",
    "\n",
    "os.environ['MLFLOW_TRACKING_URI'] = \"https://dagshub.com/jayraj2498/DSP_End_KNN_prj.mlflow/api/mlflow\"\n",
    "os.environ['MLFLOW_TRACKING_USERNAME'] = \"jayraj2498\"\n",
    "os.environ['MLFLOW_TRACKING_PASSWORD'] = \"777e2be0b0c43fcc2efbc898716cbaebe35c912b\"\n"
   ]
  },
  {
   "cell_type": "code",
   "execution_count": 49,
   "metadata": {},
   "outputs": [
    {
     "name": "stdout",
     "output_type": "stream",
     "text": [
      "Tracking URI: https://dagshub.com/jayraj2498/DSP_End_KNN_prj.mlflow/api/mlflow\n"
     ]
    }
   ],
   "source": [
    "import mlflow\n",
    "print(\"Tracking URI:\", mlflow.get_tracking_uri())\n"
   ]
  },
  {
   "cell_type": "code",
   "execution_count": null,
   "id": "4e4037b9",
   "metadata": {},
   "outputs": [],
   "source": [
    "\"777e2be0b0c43fcc2efbc898716cbaebe35c912b\" \n",
    "\"https://dagshub.com/jayraj2498/DSP_End_KNN_prj.mlflow\"\n",
    "\"https://dagshub.com/jayraj2498/DSP_End_KNN_prj.mlflow\""
   ]
  },
  {
   "cell_type": "code",
   "execution_count": null,
   "id": "01332aa9",
   "metadata": {},
   "outputs": [],
   "source": []
  }
 ],
 "metadata": {
  "kernelspec": {
   "display_name": "base",
   "language": "python",
   "name": "python3"
  },
  "language_info": {
   "codemirror_mode": {
    "name": "ipython",
    "version": 3
   },
   "file_extension": ".py",
   "mimetype": "text/x-python",
   "name": "python",
   "nbconvert_exporter": "python",
   "pygments_lexer": "ipython3",
   "version": "3.12.7"
  }
 },
 "nbformat": 4,
 "nbformat_minor": 5
}
